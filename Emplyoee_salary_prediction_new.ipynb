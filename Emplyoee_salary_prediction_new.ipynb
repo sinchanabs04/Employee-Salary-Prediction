{
  "nbformat": 4,
  "nbformat_minor": 0,
  "metadata": {
    "colab": {
      "provenance": [],
      "authorship_tag": "ABX9TyMoaybRsJzgsT7tVnsDqPvo",
      "include_colab_link": true
    },
    "kernelspec": {
      "name": "python3",
      "display_name": "Python 3"
    },
    "language_info": {
      "name": "python"
    }
  },
  "cells": [
    {
      "cell_type": "markdown",
      "metadata": {
        "id": "view-in-github",
        "colab_type": "text"
      },
      "source": [
        "<a href=\"https://colab.research.google.com/github/sinchanabs04/Employee-salary-prediction/blob/main/Emplyoee_salary_prediction_new.ipynb\" target=\"_parent\"><img src=\"https://colab.research.google.com/assets/colab-badge.svg\" alt=\"Open In Colab\"/></a>"
      ]
    },
    {
      "cell_type": "code",
      "execution_count": null,
      "metadata": {
        "id": "3-sfIAFbgarh"
      },
      "outputs": [],
      "source": [
        "import pandas as pd\n",
        "import numpy as np\n",
        "import seaborn as sns\n",
        "import matplotlib.pyplot as plt\n",
        "from sklearn.model_selection import train_test_split\n",
        "from sklearn.preprocessing import LabelEncoder, StandardScaler\n",
        "from sklearn.linear_model import LogisticRegression\n",
        "from sklearn.tree import DecisionTreeClassifier\n",
        "from sklearn.ensemble import RandomForestClassifier\n",
        "from sklearn.neighbors import KNeighborsClassifier\n",
        "from sklearn.svm import SVC\n",
        "from sklearn.metrics import accuracy_score, classification_report, confusion_matrix\n"
      ]
    },
    {
      "cell_type": "code",
      "source": [
        "import pandas as pd\n",
        "import numpy as np\n",
        "import seaborn as sns\n",
        "import matplotlib.pyplot as plt"
      ],
      "metadata": {
        "id": "JbcqPPOig2R-"
      },
      "execution_count": null,
      "outputs": []
    },
    {
      "cell_type": "code",
      "source": [
        "#Data Loading and Inspection\n",
        "def load_data(path):\n",
        "    df = pd.read_csv(path)\n",
        "    print(\"Dataset loaded. Shape:\", df.shape)\n",
        "    return df"
      ],
      "metadata": {
        "id": "gr4a-Vigg8jz"
      },
      "execution_count": null,
      "outputs": []
    },
    {
      "cell_type": "code",
      "source": [
        "#Preprocessing Function\n",
        "\n",
        "def preprocess_data(df):\n",
        "    # Replace '?' with NaN and drop missing\n",
        "    df.replace(\"?\", np.nan, inplace=True)\n",
        "    df.dropna(inplace=True)\n",
        "\n",
        "    # Drop irrelevant column if exists\n",
        "    if 'fnlwgt' in df.columns:\n",
        "        df.drop('fnlwgt', axis=1, inplace=True)\n",
        "\n",
        "    # Encode all object columns\n",
        "    for col in df.select_dtypes(include='object').columns:\n",
        "        df[col] = LabelEncoder().fit_transform(df[col])\n",
        "\n",
        "    return df"
      ],
      "metadata": {
        "id": "RAmPz2cdhByL"
      },
      "execution_count": null,
      "outputs": []
    },
    {
      "cell_type": "code",
      "source": [
        "#Train-Test Split + Scaling\n",
        "def prepare_features(df):\n",
        "    X = df.drop(\"income\", axis=1)\n",
        "    y = df[\"income\"]\n",
        "\n",
        "    X_train, X_test, y_train, y_test = train_test_split(X, y, test_size=0.2, random_state=42)\n",
        "\n",
        "    # Apply scaling\n",
        "    scaler = StandardScaler()\n",
        "    X_train_scaled = scaler.fit_transform(X_train)\n",
        "    X_test_scaled = scaler.transform(X_test)\n",
        "\n",
        "    return X_train, X_test, y_train, y_test, X_train_scaled, X_test_scaled"
      ],
      "metadata": {
        "id": "n5XFANy_hG5T"
      },
      "execution_count": null,
      "outputs": []
    },
    {
      "cell_type": "code",
      "source": [
        "#Model Training and Evaluation\n",
        "def evaluate_models(X_train, X_test, y_train, y_test, X_train_scaled, X_test_scaled):\n",
        "    models = {\n",
        "        \"Logistic Regression\": LogisticRegression(),\n",
        "        \"Decision Tree\": DecisionTreeClassifier(),\n",
        "        \"Random Forest\": RandomForestClassifier(),\n",
        "        \"K-Nearest Neighbors\": KNeighborsClassifier(),\n",
        "        \"Support Vector Machine\": SVC()\n",
        "    }\n",
        "\n",
        "    for name, model in models.items():\n",
        "        print(f\"\\n Model: {name}\")\n",
        "\n",
        "        # Use scaled data for distance-based models\n",
        "        if name in [\"K-Nearest Neighbors\", \"Support Vector Machine\"]:\n",
        "            model.fit(X_train_scaled, y_train)\n",
        "            y_pred = model.predict(X_test_scaled)\n",
        "        else:\n",
        "            model.fit(X_train, y_train)\n",
        "            y_pred = model.predict(X_test)\n",
        "\n",
        "        print(\"Accuracy:\", round(accuracy_score(y_test, y_pred)*100, 2), \"%\")\n",
        "        print(\"classification Report:\\n\", classification_report(y_test, y_pred))\n",
        "        print(\"Confusion Matrix:\\n\", confusion_matrix(y_test, y_pred))\n"
      ],
      "metadata": {
        "id": "agJ8qHhuhP4t"
      },
      "execution_count": null,
      "outputs": []
    },
    {
      "cell_type": "code",
      "source": [
        "#Main Pipeline\n",
        "def main():\n",
        "    df = load_data(\"adult 3.csv\")\n",
        "    df = preprocess_data(df)\n",
        "    X_train, X_test, y_train, y_test, X_train_scaled, X_test_scaled = prepare_features(df)\n",
        "    evaluate_models(X_train, X_test, y_train, y_test, X_train_scaled, X_test_scaled)\n"
      ],
      "metadata": {
        "id": "FCn03hnnhWKh"
      },
      "execution_count": null,
      "outputs": []
    },
    {
      "cell_type": "code",
      "source": [
        "#Run the Project\n",
        "if __name__ == \"__main__\":\n",
        "    main()"
      ],
      "metadata": {
        "colab": {
          "base_uri": "https://localhost:8080/"
        },
        "id": "C8oK064qhdE7",
        "outputId": "4b3f6966-c360-483c-a2af-b30f95a7cc2c"
      },
      "execution_count": null,
      "outputs": [
        {
          "output_type": "stream",
          "name": "stdout",
          "text": [
            "Dataset loaded. Shape: (48842, 15)\n",
            "\n",
            " Model: Logistic Regression\n"
          ]
        },
        {
          "output_type": "stream",
          "name": "stderr",
          "text": [
            "/usr/local/lib/python3.11/dist-packages/sklearn/linear_model/_logistic.py:465: ConvergenceWarning: lbfgs failed to converge (status=1):\n",
            "STOP: TOTAL NO. OF ITERATIONS REACHED LIMIT.\n",
            "\n",
            "Increase the number of iterations (max_iter) or scale the data as shown in:\n",
            "    https://scikit-learn.org/stable/modules/preprocessing.html\n",
            "Please also refer to the documentation for alternative solver options:\n",
            "    https://scikit-learn.org/stable/modules/linear_model.html#logistic-regression\n",
            "  n_iter_i = _check_optimize_result(\n"
          ]
        },
        {
          "output_type": "stream",
          "name": "stdout",
          "text": [
            "Accuracy: 80.34 %\n",
            "classification Report:\n",
            "               precision    recall  f1-score   support\n",
            "\n",
            "           0       0.82      0.94      0.88      6842\n",
            "           1       0.67      0.38      0.48      2203\n",
            "\n",
            "    accuracy                           0.80      9045\n",
            "   macro avg       0.75      0.66      0.68      9045\n",
            "weighted avg       0.79      0.80      0.78      9045\n",
            "\n",
            "Confusion Matrix:\n",
            " [[6440  402]\n",
            " [1376  827]]\n",
            "\n",
            " Model: Decision Tree\n",
            "Accuracy: 81.59 %\n",
            "classification Report:\n",
            "               precision    recall  f1-score   support\n",
            "\n",
            "           0       0.87      0.89      0.88      6842\n",
            "           1       0.63      0.60      0.61      2203\n",
            "\n",
            "    accuracy                           0.82      9045\n",
            "   macro avg       0.75      0.74      0.75      9045\n",
            "weighted avg       0.81      0.82      0.81      9045\n",
            "\n",
            "Confusion Matrix:\n",
            " [[6063  779]\n",
            " [ 886 1317]]\n",
            "\n",
            " Model: Random Forest\n",
            "Accuracy: 84.64 %\n",
            "classification Report:\n",
            "               precision    recall  f1-score   support\n",
            "\n",
            "           0       0.88      0.92      0.90      6842\n",
            "           1       0.72      0.61      0.66      2203\n",
            "\n",
            "    accuracy                           0.85      9045\n",
            "   macro avg       0.80      0.77      0.78      9045\n",
            "weighted avg       0.84      0.85      0.84      9045\n",
            "\n",
            "Confusion Matrix:\n",
            " [[6307  535]\n",
            " [ 854 1349]]\n",
            "\n",
            " Model: K-Nearest Neighbors\n",
            "Accuracy: 83.62 %\n",
            "classification Report:\n",
            "               precision    recall  f1-score   support\n",
            "\n",
            "           0       0.88      0.91      0.89      6842\n",
            "           1       0.68      0.61      0.65      2203\n",
            "\n",
            "    accuracy                           0.84      9045\n",
            "   macro avg       0.78      0.76      0.77      9045\n",
            "weighted avg       0.83      0.84      0.83      9045\n",
            "\n",
            "Confusion Matrix:\n",
            " [[6212  630]\n",
            " [ 852 1351]]\n",
            "\n",
            " Model: Support Vector Machine\n",
            "Accuracy: 85.01 %\n",
            "classification Report:\n",
            "               precision    recall  f1-score   support\n",
            "\n",
            "           0       0.87      0.94      0.91      6842\n",
            "           1       0.76      0.56      0.64      2203\n",
            "\n",
            "    accuracy                           0.85      9045\n",
            "   macro avg       0.82      0.75      0.77      9045\n",
            "weighted avg       0.84      0.85      0.84      9045\n",
            "\n",
            "Confusion Matrix:\n",
            " [[6464  378]\n",
            " [ 978 1225]]\n"
          ]
        }
      ]
    }
  ]
}